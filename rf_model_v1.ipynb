{
 "cells": [
  {
   "cell_type": "code",
   "execution_count": 26,
   "metadata": {},
   "outputs": [],
   "source": [
    "import pandas as pd\n",
    "import numpy as np\n",
    "from sklearn.ensemble import RandomForestClassifier\n",
    "from sklearn.ensemble import RandomForestRegressor\n",
    "from sklearn.model_selection import train_test_split, GridSearchCV,cross_val_score\n",
    "from sklearn.metrics import accuracy_score, classification_report, confusion_matrix\n",
    "from sklearn.pipeline import Pipeline\n",
    "\n",
    "\n",
    "#for graphing\n",
    "import matplotlib.pyplot as plt\n",
    "import seaborn as sns\n"
   ]
  },
  {
   "cell_type": "code",
   "execution_count": 27,
   "metadata": {},
   "outputs": [],
   "source": [
    "na_df = pd.read_csv('na_dataset.csv')\n",
    "lan_df = pd.read_csv('lan_dataset.csv')"
   ]
  },
  {
   "cell_type": "code",
   "execution_count": 28,
   "metadata": {},
   "outputs": [
    {
     "data": {
      "text/html": [
       "<div>\n",
       "<style scoped>\n",
       "    .dataframe tbody tr th:only-of-type {\n",
       "        vertical-align: middle;\n",
       "    }\n",
       "\n",
       "    .dataframe tbody tr th {\n",
       "        vertical-align: top;\n",
       "    }\n",
       "\n",
       "    .dataframe thead th {\n",
       "        text-align: right;\n",
       "    }\n",
       "</style>\n",
       "<table border=\"1\" class=\"dataframe\">\n",
       "  <thead>\n",
       "    <tr style=\"text-align: right;\">\n",
       "      <th></th>\n",
       "      <th>Blue Mastery 1</th>\n",
       "      <th>Blue Mastery 2</th>\n",
       "      <th>Blue Mastery 3</th>\n",
       "      <th>Blue Mastery 4</th>\n",
       "      <th>Blue Mastery 5</th>\n",
       "      <th>Blue Masteries Avg</th>\n",
       "      <th>Blue Mastery Min</th>\n",
       "      <th>Blue Mastery Max</th>\n",
       "      <th>Blue Masteries Median</th>\n",
       "      <th>Blue Masteries Kurtorsis</th>\n",
       "      <th>...</th>\n",
       "      <th>Red Winrate 5</th>\n",
       "      <th>Red Winrates Avg</th>\n",
       "      <th>Red Winrate Min</th>\n",
       "      <th>Red Winrate Max</th>\n",
       "      <th>Red Winrates Median</th>\n",
       "      <th>Red Winrates Kurtorsis</th>\n",
       "      <th>Red Winrates Skewness</th>\n",
       "      <th>Red Winrates Std</th>\n",
       "      <th>Red Winrates Variance</th>\n",
       "      <th>Blue Won</th>\n",
       "    </tr>\n",
       "  </thead>\n",
       "  <tbody>\n",
       "    <tr>\n",
       "      <th>0</th>\n",
       "      <td>4133</td>\n",
       "      <td>1821</td>\n",
       "      <td>8979</td>\n",
       "      <td>24707</td>\n",
       "      <td>5037</td>\n",
       "      <td>8935.4</td>\n",
       "      <td>1821</td>\n",
       "      <td>24707</td>\n",
       "      <td>5037</td>\n",
       "      <td>3.439484</td>\n",
       "      <td>...</td>\n",
       "      <td>0.442308</td>\n",
       "      <td>0.441384</td>\n",
       "      <td>0.268293</td>\n",
       "      <td>0.600000</td>\n",
       "      <td>0.442308</td>\n",
       "      <td>1.914221</td>\n",
       "      <td>-0.302154</td>\n",
       "      <td>0.105423</td>\n",
       "      <td>0.011114</td>\n",
       "      <td>1</td>\n",
       "    </tr>\n",
       "    <tr>\n",
       "      <th>1</th>\n",
       "      <td>117377</td>\n",
       "      <td>6819</td>\n",
       "      <td>203518</td>\n",
       "      <td>93559</td>\n",
       "      <td>99490</td>\n",
       "      <td>104152.6</td>\n",
       "      <td>6819</td>\n",
       "      <td>203518</td>\n",
       "      <td>99490</td>\n",
       "      <td>1.694611</td>\n",
       "      <td>...</td>\n",
       "      <td>0.176471</td>\n",
       "      <td>0.213843</td>\n",
       "      <td>0.000000</td>\n",
       "      <td>0.468085</td>\n",
       "      <td>0.176471</td>\n",
       "      <td>-2.929853</td>\n",
       "      <td>0.227510</td>\n",
       "      <td>0.200966</td>\n",
       "      <td>0.040387</td>\n",
       "      <td>1</td>\n",
       "    </tr>\n",
       "    <tr>\n",
       "      <th>2</th>\n",
       "      <td>185844</td>\n",
       "      <td>9320</td>\n",
       "      <td>26882</td>\n",
       "      <td>5563</td>\n",
       "      <td>577853</td>\n",
       "      <td>161092.4</td>\n",
       "      <td>5563</td>\n",
       "      <td>577853</td>\n",
       "      <td>26882</td>\n",
       "      <td>3.017505</td>\n",
       "      <td>...</td>\n",
       "      <td>0.200000</td>\n",
       "      <td>0.417206</td>\n",
       "      <td>0.200000</td>\n",
       "      <td>0.481928</td>\n",
       "      <td>0.467320</td>\n",
       "      <td>4.946368</td>\n",
       "      <td>-2.220568</td>\n",
       "      <td>0.108752</td>\n",
       "      <td>0.011827</td>\n",
       "      <td>1</td>\n",
       "    </tr>\n",
       "    <tr>\n",
       "      <th>3</th>\n",
       "      <td>23117</td>\n",
       "      <td>75649</td>\n",
       "      <td>57216</td>\n",
       "      <td>101159</td>\n",
       "      <td>256284</td>\n",
       "      <td>102685.0</td>\n",
       "      <td>23117</td>\n",
       "      <td>256284</td>\n",
       "      <td>75649</td>\n",
       "      <td>3.233748</td>\n",
       "      <td>...</td>\n",
       "      <td>0.633333</td>\n",
       "      <td>0.527823</td>\n",
       "      <td>0.437500</td>\n",
       "      <td>0.633333</td>\n",
       "      <td>0.550000</td>\n",
       "      <td>-1.824953</td>\n",
       "      <td>0.048294</td>\n",
       "      <td>0.073620</td>\n",
       "      <td>0.005420</td>\n",
       "      <td>0</td>\n",
       "    </tr>\n",
       "    <tr>\n",
       "      <th>4</th>\n",
       "      <td>3685</td>\n",
       "      <td>1198</td>\n",
       "      <td>37405</td>\n",
       "      <td>981</td>\n",
       "      <td>363699</td>\n",
       "      <td>81393.6</td>\n",
       "      <td>981</td>\n",
       "      <td>363699</td>\n",
       "      <td>3685</td>\n",
       "      <td>4.804045</td>\n",
       "      <td>...</td>\n",
       "      <td>0.333333</td>\n",
       "      <td>0.594533</td>\n",
       "      <td>0.333333</td>\n",
       "      <td>1.000000</td>\n",
       "      <td>0.567901</td>\n",
       "      <td>2.775487</td>\n",
       "      <td>1.336285</td>\n",
       "      <td>0.220367</td>\n",
       "      <td>0.048562</td>\n",
       "      <td>0</td>\n",
       "    </tr>\n",
       "  </tbody>\n",
       "</table>\n",
       "<p>5 rows × 53 columns</p>\n",
       "</div>"
      ],
      "text/plain": [
       "   Blue Mastery 1  Blue Mastery 2  Blue Mastery 3  Blue Mastery 4  \\\n",
       "0            4133            1821            8979           24707   \n",
       "1          117377            6819          203518           93559   \n",
       "2          185844            9320           26882            5563   \n",
       "3           23117           75649           57216          101159   \n",
       "4            3685            1198           37405             981   \n",
       "\n",
       "   Blue Mastery 5  Blue Masteries Avg  Blue Mastery Min  Blue Mastery Max  \\\n",
       "0            5037              8935.4              1821             24707   \n",
       "1           99490            104152.6              6819            203518   \n",
       "2          577853            161092.4              5563            577853   \n",
       "3          256284            102685.0             23117            256284   \n",
       "4          363699             81393.6               981            363699   \n",
       "\n",
       "   Blue Masteries Median  Blue Masteries Kurtorsis  ...  Red Winrate 5  \\\n",
       "0                   5037                  3.439484  ...       0.442308   \n",
       "1                  99490                  1.694611  ...       0.176471   \n",
       "2                  26882                  3.017505  ...       0.200000   \n",
       "3                  75649                  3.233748  ...       0.633333   \n",
       "4                   3685                  4.804045  ...       0.333333   \n",
       "\n",
       "   Red Winrates Avg  Red Winrate Min  Red Winrate Max  Red Winrates Median  \\\n",
       "0          0.441384         0.268293         0.600000             0.442308   \n",
       "1          0.213843         0.000000         0.468085             0.176471   \n",
       "2          0.417206         0.200000         0.481928             0.467320   \n",
       "3          0.527823         0.437500         0.633333             0.550000   \n",
       "4          0.594533         0.333333         1.000000             0.567901   \n",
       "\n",
       "   Red Winrates Kurtorsis  Red Winrates Skewness  Red Winrates Std  \\\n",
       "0                1.914221              -0.302154          0.105423   \n",
       "1               -2.929853               0.227510          0.200966   \n",
       "2                4.946368              -2.220568          0.108752   \n",
       "3               -1.824953               0.048294          0.073620   \n",
       "4                2.775487               1.336285          0.220367   \n",
       "\n",
       "   Red Winrates Variance  Blue Won  \n",
       "0               0.011114         1  \n",
       "1               0.040387         1  \n",
       "2               0.011827         1  \n",
       "3               0.005420         0  \n",
       "4               0.048562         0  \n",
       "\n",
       "[5 rows x 53 columns]"
      ]
     },
     "execution_count": 28,
     "metadata": {},
     "output_type": "execute_result"
    }
   ],
   "source": [
    "na_df.head()"
   ]
  },
  {
   "cell_type": "markdown",
   "metadata": {},
   "source": [
    "# EDA With Sweetviz #"
   ]
  },
  {
   "cell_type": "code",
   "execution_count": 29,
   "metadata": {},
   "outputs": [
    {
     "data": {
      "application/vnd.jupyter.widget-view+json": {
       "model_id": "c1f6999b849c4940b1b7e3a91234d3ce",
       "version_major": 2,
       "version_minor": 0
      },
      "text/plain": [
       "                                             |          | [  0%]   00:00 -> (? left)"
      ]
     },
     "metadata": {},
     "output_type": "display_data"
    },
    {
     "name": "stdout",
     "output_type": "stream",
     "text": [
      "Report Sweetviz_Report_NA.html was generated! NOTEBOOK/COLAB USERS: the web browser MAY not pop up, regardless, the report IS saved in your notebook/colab files.\n"
     ]
    }
   ],
   "source": [
    "import sweetviz as sv\n",
    "na_report = sv.analyze(na_df)\n",
    "na_report.show_html('Sweetviz_Report_NA.html')  # This will output the report as an HTML file"
   ]
  },
  {
   "cell_type": "code",
   "execution_count": 30,
   "metadata": {},
   "outputs": [
    {
     "data": {
      "application/vnd.jupyter.widget-view+json": {
       "model_id": "dc2b1c119a4945f499fca86e75b090b6",
       "version_major": 2,
       "version_minor": 0
      },
      "text/plain": [
       "                                             |          | [  0%]   00:00 -> (? left)"
      ]
     },
     "metadata": {},
     "output_type": "display_data"
    },
    {
     "name": "stdout",
     "output_type": "stream",
     "text": [
      "Report Sweetviz_Report_LAN.html was generated! NOTEBOOK/COLAB USERS: the web browser MAY not pop up, regardless, the report IS saved in your notebook/colab files.\n"
     ]
    }
   ],
   "source": [
    "lan_report = sv.analyze(lan_df)\n",
    "lan_report.show_html('Sweetviz_Report_LAN.html')  # This will output the report as an HTML file"
   ]
  },
  {
   "cell_type": "markdown",
   "metadata": {},
   "source": [
    "# Model Building #"
   ]
  },
  {
   "cell_type": "code",
   "execution_count": 6,
   "metadata": {},
   "outputs": [],
   "source": [
    "na_X = na_df.drop('Blue Won', axis=1)  # Replace 'target_column' with your target column name\n",
    "na_y = na_df['Blue Won']\n",
    "na_X_train, na_X_test, na_y_train, na_y_test = train_test_split(na_X, na_y, test_size=0.2, random_state=42)"
   ]
  },
  {
   "cell_type": "code",
   "execution_count": 7,
   "metadata": {},
   "outputs": [],
   "source": [
    "lan_X = lan_df.drop('Blue Won', axis=1)  # Replace 'target_column' with your target column lanme\n",
    "lan_y = lan_df['Blue Won']\n",
    "lan_X_train, lan_X_test, lan_y_train, lan_y_test = train_test_split(lan_X, lan_y, test_size=0.2, random_state=42)"
   ]
  },
  {
   "cell_type": "code",
   "execution_count": 8,
   "metadata": {},
   "outputs": [
    {
     "name": "stderr",
     "output_type": "stream",
     "text": [
      "/Users/harrisongarber/opt/anaconda3/lib/python3.11/site-packages/sklearn/utils/validation.py:767: FutureWarning: is_sparse is deprecated and will be removed in a future version. Check `isinstance(dtype, pd.SparseDtype)` instead.\n",
      "  if not hasattr(array, \"sparse\") and array.dtypes.apply(is_sparse).any():\n",
      "/Users/harrisongarber/opt/anaconda3/lib/python3.11/site-packages/sklearn/utils/validation.py:605: FutureWarning: is_sparse is deprecated and will be removed in a future version. Check `isinstance(dtype, pd.SparseDtype)` instead.\n",
      "  if is_sparse(pd_dtype):\n",
      "/Users/harrisongarber/opt/anaconda3/lib/python3.11/site-packages/sklearn/utils/validation.py:614: FutureWarning: is_sparse is deprecated and will be removed in a future version. Check `isinstance(dtype, pd.SparseDtype)` instead.\n",
      "  if is_sparse(pd_dtype) or not is_extension_array_dtype(pd_dtype):\n",
      "/Users/harrisongarber/opt/anaconda3/lib/python3.11/site-packages/sklearn/utils/validation.py:605: FutureWarning: is_sparse is deprecated and will be removed in a future version. Check `isinstance(dtype, pd.SparseDtype)` instead.\n",
      "  if is_sparse(pd_dtype):\n",
      "/Users/harrisongarber/opt/anaconda3/lib/python3.11/site-packages/sklearn/utils/validation.py:614: FutureWarning: is_sparse is deprecated and will be removed in a future version. Check `isinstance(dtype, pd.SparseDtype)` instead.\n",
      "  if is_sparse(pd_dtype) or not is_extension_array_dtype(pd_dtype):\n",
      "/Users/harrisongarber/opt/anaconda3/lib/python3.11/site-packages/sklearn/utils/validation.py:767: FutureWarning: is_sparse is deprecated and will be removed in a future version. Check `isinstance(dtype, pd.SparseDtype)` instead.\n",
      "  if not hasattr(array, \"sparse\") and array.dtypes.apply(is_sparse).any():\n",
      "/Users/harrisongarber/opt/anaconda3/lib/python3.11/site-packages/sklearn/utils/validation.py:605: FutureWarning: is_sparse is deprecated and will be removed in a future version. Check `isinstance(dtype, pd.SparseDtype)` instead.\n",
      "  if is_sparse(pd_dtype):\n",
      "/Users/harrisongarber/opt/anaconda3/lib/python3.11/site-packages/sklearn/utils/validation.py:614: FutureWarning: is_sparse is deprecated and will be removed in a future version. Check `isinstance(dtype, pd.SparseDtype)` instead.\n",
      "  if is_sparse(pd_dtype) or not is_extension_array_dtype(pd_dtype):\n",
      "/Users/harrisongarber/opt/anaconda3/lib/python3.11/site-packages/sklearn/utils/validation.py:605: FutureWarning: is_sparse is deprecated and will be removed in a future version. Check `isinstance(dtype, pd.SparseDtype)` instead.\n",
      "  if is_sparse(pd_dtype):\n",
      "/Users/harrisongarber/opt/anaconda3/lib/python3.11/site-packages/sklearn/utils/validation.py:614: FutureWarning: is_sparse is deprecated and will be removed in a future version. Check `isinstance(dtype, pd.SparseDtype)` instead.\n",
      "  if is_sparse(pd_dtype) or not is_extension_array_dtype(pd_dtype):\n"
     ]
    },
    {
     "data": {
      "text/html": [
       "<style>#sk-container-id-1 {color: black;background-color: white;}#sk-container-id-1 pre{padding: 0;}#sk-container-id-1 div.sk-toggleable {background-color: white;}#sk-container-id-1 label.sk-toggleable__label {cursor: pointer;display: block;width: 100%;margin-bottom: 0;padding: 0.3em;box-sizing: border-box;text-align: center;}#sk-container-id-1 label.sk-toggleable__label-arrow:before {content: \"▸\";float: left;margin-right: 0.25em;color: #696969;}#sk-container-id-1 label.sk-toggleable__label-arrow:hover:before {color: black;}#sk-container-id-1 div.sk-estimator:hover label.sk-toggleable__label-arrow:before {color: black;}#sk-container-id-1 div.sk-toggleable__content {max-height: 0;max-width: 0;overflow: hidden;text-align: left;background-color: #f0f8ff;}#sk-container-id-1 div.sk-toggleable__content pre {margin: 0.2em;color: black;border-radius: 0.25em;background-color: #f0f8ff;}#sk-container-id-1 input.sk-toggleable__control:checked~div.sk-toggleable__content {max-height: 200px;max-width: 100%;overflow: auto;}#sk-container-id-1 input.sk-toggleable__control:checked~label.sk-toggleable__label-arrow:before {content: \"▾\";}#sk-container-id-1 div.sk-estimator input.sk-toggleable__control:checked~label.sk-toggleable__label {background-color: #d4ebff;}#sk-container-id-1 div.sk-label input.sk-toggleable__control:checked~label.sk-toggleable__label {background-color: #d4ebff;}#sk-container-id-1 input.sk-hidden--visually {border: 0;clip: rect(1px 1px 1px 1px);clip: rect(1px, 1px, 1px, 1px);height: 1px;margin: -1px;overflow: hidden;padding: 0;position: absolute;width: 1px;}#sk-container-id-1 div.sk-estimator {font-family: monospace;background-color: #f0f8ff;border: 1px dotted black;border-radius: 0.25em;box-sizing: border-box;margin-bottom: 0.5em;}#sk-container-id-1 div.sk-estimator:hover {background-color: #d4ebff;}#sk-container-id-1 div.sk-parallel-item::after {content: \"\";width: 100%;border-bottom: 1px solid gray;flex-grow: 1;}#sk-container-id-1 div.sk-label:hover label.sk-toggleable__label {background-color: #d4ebff;}#sk-container-id-1 div.sk-serial::before {content: \"\";position: absolute;border-left: 1px solid gray;box-sizing: border-box;top: 0;bottom: 0;left: 50%;z-index: 0;}#sk-container-id-1 div.sk-serial {display: flex;flex-direction: column;align-items: center;background-color: white;padding-right: 0.2em;padding-left: 0.2em;position: relative;}#sk-container-id-1 div.sk-item {position: relative;z-index: 1;}#sk-container-id-1 div.sk-parallel {display: flex;align-items: stretch;justify-content: center;background-color: white;position: relative;}#sk-container-id-1 div.sk-item::before, #sk-container-id-1 div.sk-parallel-item::before {content: \"\";position: absolute;border-left: 1px solid gray;box-sizing: border-box;top: 0;bottom: 0;left: 50%;z-index: -1;}#sk-container-id-1 div.sk-parallel-item {display: flex;flex-direction: column;z-index: 1;position: relative;background-color: white;}#sk-container-id-1 div.sk-parallel-item:first-child::after {align-self: flex-end;width: 50%;}#sk-container-id-1 div.sk-parallel-item:last-child::after {align-self: flex-start;width: 50%;}#sk-container-id-1 div.sk-parallel-item:only-child::after {width: 0;}#sk-container-id-1 div.sk-dashed-wrapped {border: 1px dashed gray;margin: 0 0.4em 0.5em 0.4em;box-sizing: border-box;padding-bottom: 0.4em;background-color: white;}#sk-container-id-1 div.sk-label label {font-family: monospace;font-weight: bold;display: inline-block;line-height: 1.2em;}#sk-container-id-1 div.sk-label-container {text-align: center;}#sk-container-id-1 div.sk-container {/* jupyter's `normalize.less` sets `[hidden] { display: none; }` but bootstrap.min.css set `[hidden] { display: none !important; }` so we also need the `!important` here to be able to override the default hidden behavior on the sphinx rendered scikit-learn.org. See: https://github.com/scikit-learn/scikit-learn/issues/21755 */display: inline-block !important;position: relative;}#sk-container-id-1 div.sk-text-repr-fallback {display: none;}</style><div id=\"sk-container-id-1\" class=\"sk-top-container\"><div class=\"sk-text-repr-fallback\"><pre>RandomForestClassifier(random_state=42)</pre><b>In a Jupyter environment, please rerun this cell to show the HTML representation or trust the notebook. <br />On GitHub, the HTML representation is unable to render, please try loading this page with nbviewer.org.</b></div><div class=\"sk-container\" hidden><div class=\"sk-item\"><div class=\"sk-estimator sk-toggleable\"><input class=\"sk-toggleable__control sk-hidden--visually\" id=\"sk-estimator-id-1\" type=\"checkbox\" checked><label for=\"sk-estimator-id-1\" class=\"sk-toggleable__label sk-toggleable__label-arrow\">RandomForestClassifier</label><div class=\"sk-toggleable__content\"><pre>RandomForestClassifier(random_state=42)</pre></div></div></div></div></div>"
      ],
      "text/plain": [
       "RandomForestClassifier(random_state=42)"
      ]
     },
     "execution_count": 8,
     "metadata": {},
     "output_type": "execute_result"
    }
   ],
   "source": [
    "na_rf_classifier = RandomForestClassifier(random_state=42)\n",
    "na_rf_classifier.fit(na_X_train, na_y_train)\n",
    "\n",
    "lan_rf_classifier = RandomForestClassifier(random_state=42)\n",
    "lan_rf_classifier.fit(lan_X_train, lan_y_train)"
   ]
  },
  {
   "cell_type": "markdown",
   "metadata": {},
   "source": [
    "# Inital Model #"
   ]
  },
  {
   "cell_type": "code",
   "execution_count": 9,
   "metadata": {},
   "outputs": [
    {
     "name": "stdout",
     "output_type": "stream",
     "text": [
      "NA Accuracy: 0.8946212952799122\n",
      "              precision    recall  f1-score   support\n",
      "\n",
      "           0       0.89      0.90      0.89       439\n",
      "           1       0.90      0.89      0.90       472\n",
      "\n",
      "    accuracy                           0.89       911\n",
      "   macro avg       0.89      0.89      0.89       911\n",
      "weighted avg       0.89      0.89      0.89       911\n",
      "\n"
     ]
    },
    {
     "name": "stderr",
     "output_type": "stream",
     "text": [
      "/Users/harrisongarber/opt/anaconda3/lib/python3.11/site-packages/sklearn/utils/validation.py:767: FutureWarning: is_sparse is deprecated and will be removed in a future version. Check `isinstance(dtype, pd.SparseDtype)` instead.\n",
      "  if not hasattr(array, \"sparse\") and array.dtypes.apply(is_sparse).any():\n",
      "/Users/harrisongarber/opt/anaconda3/lib/python3.11/site-packages/sklearn/utils/validation.py:605: FutureWarning: is_sparse is deprecated and will be removed in a future version. Check `isinstance(dtype, pd.SparseDtype)` instead.\n",
      "  if is_sparse(pd_dtype):\n",
      "/Users/harrisongarber/opt/anaconda3/lib/python3.11/site-packages/sklearn/utils/validation.py:614: FutureWarning: is_sparse is deprecated and will be removed in a future version. Check `isinstance(dtype, pd.SparseDtype)` instead.\n",
      "  if is_sparse(pd_dtype) or not is_extension_array_dtype(pd_dtype):\n",
      "/Users/harrisongarber/opt/anaconda3/lib/python3.11/site-packages/sklearn/utils/validation.py:605: FutureWarning: is_sparse is deprecated and will be removed in a future version. Check `isinstance(dtype, pd.SparseDtype)` instead.\n",
      "  if is_sparse(pd_dtype):\n",
      "/Users/harrisongarber/opt/anaconda3/lib/python3.11/site-packages/sklearn/utils/validation.py:614: FutureWarning: is_sparse is deprecated and will be removed in a future version. Check `isinstance(dtype, pd.SparseDtype)` instead.\n",
      "  if is_sparse(pd_dtype) or not is_extension_array_dtype(pd_dtype):\n",
      "/Users/harrisongarber/opt/anaconda3/lib/python3.11/site-packages/sklearn/utils/validation.py:605: FutureWarning: is_sparse is deprecated and will be removed in a future version. Check `isinstance(dtype, pd.SparseDtype)` instead.\n",
      "  if is_sparse(pd_dtype):\n",
      "/Users/harrisongarber/opt/anaconda3/lib/python3.11/site-packages/sklearn/utils/validation.py:614: FutureWarning: is_sparse is deprecated and will be removed in a future version. Check `isinstance(dtype, pd.SparseDtype)` instead.\n",
      "  if is_sparse(pd_dtype) or not is_extension_array_dtype(pd_dtype):\n",
      "/Users/harrisongarber/opt/anaconda3/lib/python3.11/site-packages/sklearn/utils/validation.py:605: FutureWarning: is_sparse is deprecated and will be removed in a future version. Check `isinstance(dtype, pd.SparseDtype)` instead.\n",
      "  if is_sparse(pd_dtype):\n",
      "/Users/harrisongarber/opt/anaconda3/lib/python3.11/site-packages/sklearn/utils/validation.py:614: FutureWarning: is_sparse is deprecated and will be removed in a future version. Check `isinstance(dtype, pd.SparseDtype)` instead.\n",
      "  if is_sparse(pd_dtype) or not is_extension_array_dtype(pd_dtype):\n",
      "/Users/harrisongarber/opt/anaconda3/lib/python3.11/site-packages/sklearn/utils/validation.py:605: FutureWarning: is_sparse is deprecated and will be removed in a future version. Check `isinstance(dtype, pd.SparseDtype)` instead.\n",
      "  if is_sparse(pd_dtype):\n",
      "/Users/harrisongarber/opt/anaconda3/lib/python3.11/site-packages/sklearn/utils/validation.py:614: FutureWarning: is_sparse is deprecated and will be removed in a future version. Check `isinstance(dtype, pd.SparseDtype)` instead.\n",
      "  if is_sparse(pd_dtype) or not is_extension_array_dtype(pd_dtype):\n",
      "/Users/harrisongarber/opt/anaconda3/lib/python3.11/site-packages/sklearn/utils/validation.py:605: FutureWarning: is_sparse is deprecated and will be removed in a future version. Check `isinstance(dtype, pd.SparseDtype)` instead.\n",
      "  if is_sparse(pd_dtype):\n",
      "/Users/harrisongarber/opt/anaconda3/lib/python3.11/site-packages/sklearn/utils/validation.py:614: FutureWarning: is_sparse is deprecated and will be removed in a future version. Check `isinstance(dtype, pd.SparseDtype)` instead.\n",
      "  if is_sparse(pd_dtype) or not is_extension_array_dtype(pd_dtype):\n",
      "/Users/harrisongarber/opt/anaconda3/lib/python3.11/site-packages/sklearn/utils/validation.py:605: FutureWarning: is_sparse is deprecated and will be removed in a future version. Check `isinstance(dtype, pd.SparseDtype)` instead.\n",
      "  if is_sparse(pd_dtype):\n",
      "/Users/harrisongarber/opt/anaconda3/lib/python3.11/site-packages/sklearn/utils/validation.py:614: FutureWarning: is_sparse is deprecated and will be removed in a future version. Check `isinstance(dtype, pd.SparseDtype)` instead.\n",
      "  if is_sparse(pd_dtype) or not is_extension_array_dtype(pd_dtype):\n"
     ]
    }
   ],
   "source": [
    "na_y_pred = na_rf_classifier.predict(na_X_test)\n",
    "print(\"NA Accuracy:\", accuracy_score(na_y_test, na_y_pred))\n",
    "print(classification_report(na_y_test, na_y_pred))"
   ]
  },
  {
   "cell_type": "code",
   "execution_count": 10,
   "metadata": {},
   "outputs": [
    {
     "name": "stdout",
     "output_type": "stream",
     "text": [
      "LAN Accuracy: 0.8980738362760835\n",
      "              precision    recall  f1-score   support\n",
      "\n",
      "           0       0.90      0.90      0.90      1230\n",
      "           1       0.90      0.90      0.90      1262\n",
      "\n",
      "    accuracy                           0.90      2492\n",
      "   macro avg       0.90      0.90      0.90      2492\n",
      "weighted avg       0.90      0.90      0.90      2492\n",
      "\n"
     ]
    },
    {
     "name": "stderr",
     "output_type": "stream",
     "text": [
      "/Users/harrisongarber/opt/anaconda3/lib/python3.11/site-packages/sklearn/utils/validation.py:767: FutureWarning: is_sparse is deprecated and will be removed in a future version. Check `isinstance(dtype, pd.SparseDtype)` instead.\n",
      "  if not hasattr(array, \"sparse\") and array.dtypes.apply(is_sparse).any():\n",
      "/Users/harrisongarber/opt/anaconda3/lib/python3.11/site-packages/sklearn/utils/validation.py:605: FutureWarning: is_sparse is deprecated and will be removed in a future version. Check `isinstance(dtype, pd.SparseDtype)` instead.\n",
      "  if is_sparse(pd_dtype):\n",
      "/Users/harrisongarber/opt/anaconda3/lib/python3.11/site-packages/sklearn/utils/validation.py:614: FutureWarning: is_sparse is deprecated and will be removed in a future version. Check `isinstance(dtype, pd.SparseDtype)` instead.\n",
      "  if is_sparse(pd_dtype) or not is_extension_array_dtype(pd_dtype):\n",
      "/Users/harrisongarber/opt/anaconda3/lib/python3.11/site-packages/sklearn/utils/validation.py:605: FutureWarning: is_sparse is deprecated and will be removed in a future version. Check `isinstance(dtype, pd.SparseDtype)` instead.\n",
      "  if is_sparse(pd_dtype):\n",
      "/Users/harrisongarber/opt/anaconda3/lib/python3.11/site-packages/sklearn/utils/validation.py:614: FutureWarning: is_sparse is deprecated and will be removed in a future version. Check `isinstance(dtype, pd.SparseDtype)` instead.\n",
      "  if is_sparse(pd_dtype) or not is_extension_array_dtype(pd_dtype):\n",
      "/Users/harrisongarber/opt/anaconda3/lib/python3.11/site-packages/sklearn/utils/validation.py:605: FutureWarning: is_sparse is deprecated and will be removed in a future version. Check `isinstance(dtype, pd.SparseDtype)` instead.\n",
      "  if is_sparse(pd_dtype):\n",
      "/Users/harrisongarber/opt/anaconda3/lib/python3.11/site-packages/sklearn/utils/validation.py:614: FutureWarning: is_sparse is deprecated and will be removed in a future version. Check `isinstance(dtype, pd.SparseDtype)` instead.\n",
      "  if is_sparse(pd_dtype) or not is_extension_array_dtype(pd_dtype):\n",
      "/Users/harrisongarber/opt/anaconda3/lib/python3.11/site-packages/sklearn/utils/validation.py:605: FutureWarning: is_sparse is deprecated and will be removed in a future version. Check `isinstance(dtype, pd.SparseDtype)` instead.\n",
      "  if is_sparse(pd_dtype):\n",
      "/Users/harrisongarber/opt/anaconda3/lib/python3.11/site-packages/sklearn/utils/validation.py:614: FutureWarning: is_sparse is deprecated and will be removed in a future version. Check `isinstance(dtype, pd.SparseDtype)` instead.\n",
      "  if is_sparse(pd_dtype) or not is_extension_array_dtype(pd_dtype):\n",
      "/Users/harrisongarber/opt/anaconda3/lib/python3.11/site-packages/sklearn/utils/validation.py:605: FutureWarning: is_sparse is deprecated and will be removed in a future version. Check `isinstance(dtype, pd.SparseDtype)` instead.\n",
      "  if is_sparse(pd_dtype):\n",
      "/Users/harrisongarber/opt/anaconda3/lib/python3.11/site-packages/sklearn/utils/validation.py:614: FutureWarning: is_sparse is deprecated and will be removed in a future version. Check `isinstance(dtype, pd.SparseDtype)` instead.\n",
      "  if is_sparse(pd_dtype) or not is_extension_array_dtype(pd_dtype):\n",
      "/Users/harrisongarber/opt/anaconda3/lib/python3.11/site-packages/sklearn/utils/validation.py:605: FutureWarning: is_sparse is deprecated and will be removed in a future version. Check `isinstance(dtype, pd.SparseDtype)` instead.\n",
      "  if is_sparse(pd_dtype):\n",
      "/Users/harrisongarber/opt/anaconda3/lib/python3.11/site-packages/sklearn/utils/validation.py:614: FutureWarning: is_sparse is deprecated and will be removed in a future version. Check `isinstance(dtype, pd.SparseDtype)` instead.\n",
      "  if is_sparse(pd_dtype) or not is_extension_array_dtype(pd_dtype):\n",
      "/Users/harrisongarber/opt/anaconda3/lib/python3.11/site-packages/sklearn/utils/validation.py:605: FutureWarning: is_sparse is deprecated and will be removed in a future version. Check `isinstance(dtype, pd.SparseDtype)` instead.\n",
      "  if is_sparse(pd_dtype):\n",
      "/Users/harrisongarber/opt/anaconda3/lib/python3.11/site-packages/sklearn/utils/validation.py:614: FutureWarning: is_sparse is deprecated and will be removed in a future version. Check `isinstance(dtype, pd.SparseDtype)` instead.\n",
      "  if is_sparse(pd_dtype) or not is_extension_array_dtype(pd_dtype):\n"
     ]
    }
   ],
   "source": [
    "lan_y_pred = lan_rf_classifier.predict(lan_X_test)\n",
    "print(\"LAN Accuracy:\", accuracy_score(lan_y_test, lan_y_pred))\n",
    "print(classification_report(lan_y_test, lan_y_pred))\n"
   ]
  },
  {
   "cell_type": "markdown",
   "metadata": {},
   "source": [
    "# Hyper Param Tuning NA #"
   ]
  },
  {
   "cell_type": "code",
   "execution_count": 11,
   "metadata": {},
   "outputs": [],
   "source": [
    "import warnings\n",
    "warnings.simplefilter(action='ignore', category=FutureWarning)"
   ]
  },
  {
   "cell_type": "code",
   "execution_count": 13,
   "metadata": {},
   "outputs": [
    {
     "name": "stderr",
     "output_type": "stream",
     "text": [
      "[I 2023-12-27 12:26:12,887] A new study created in memory with name: no-name-7794de0e-8cfa-481d-9f3e-fa3540695779\n",
      "[I 2023-12-27 12:26:16,908] Trial 0 finished with value: 0.9001097694840834 and parameters: {'n_estimators': 434, 'max_depth': 7, 'min_samples_split': 3, 'min_samples_leaf': 4}. Best is trial 0 with value: 0.9001097694840834.\n",
      "[I 2023-12-27 12:26:20,362] Trial 1 finished with value: 0.8968166849615807 and parameters: {'n_estimators': 415, 'max_depth': 6, 'min_samples_split': 6, 'min_samples_leaf': 2}. Best is trial 0 with value: 0.9001097694840834.\n",
      "[I 2023-12-27 12:26:21,522] Trial 2 finished with value: 0.8968166849615807 and parameters: {'n_estimators': 237, 'max_depth': 3, 'min_samples_split': 4, 'min_samples_leaf': 8}. Best is trial 0 with value: 0.9001097694840834.\n",
      "[I 2023-12-27 12:26:31,590] Trial 3 finished with value: 0.897914379802415 and parameters: {'n_estimators': 944, 'max_depth': 30, 'min_samples_split': 6, 'min_samples_leaf': 9}. Best is trial 0 with value: 0.9001097694840834.\n",
      "[I 2023-12-27 12:26:37,878] Trial 4 finished with value: 0.8990120746432492 and parameters: {'n_estimators': 555, 'max_depth': 18, 'min_samples_split': 9, 'min_samples_leaf': 6}. Best is trial 0 with value: 0.9001097694840834.\n",
      "[I 2023-12-27 12:26:43,678] Trial 5 finished with value: 0.893523600439078 and parameters: {'n_estimators': 452, 'max_depth': 21, 'min_samples_split': 10, 'min_samples_leaf': 1}. Best is trial 0 with value: 0.9001097694840834.\n",
      "[I 2023-12-27 12:26:45,353] Trial 6 finished with value: 0.8957189901207464 and parameters: {'n_estimators': 341, 'max_depth': 3, 'min_samples_split': 3, 'min_samples_leaf': 1}. Best is trial 0 with value: 0.9001097694840834.\n",
      "[I 2023-12-27 12:26:48,406] Trial 7 finished with value: 0.893523600439078 and parameters: {'n_estimators': 850, 'max_depth': 2, 'min_samples_split': 4, 'min_samples_leaf': 8}. Best is trial 0 with value: 0.9001097694840834.\n",
      "[I 2023-12-27 12:26:53,385] Trial 8 finished with value: 0.8968166849615807 and parameters: {'n_estimators': 703, 'max_depth': 5, 'min_samples_split': 5, 'min_samples_leaf': 3}. Best is trial 0 with value: 0.9001097694840834.\n",
      "[I 2023-12-27 12:27:00,027] Trial 9 finished with value: 0.8968166849615807 and parameters: {'n_estimators': 747, 'max_depth': 7, 'min_samples_split': 2, 'min_samples_leaf': 8}. Best is trial 0 with value: 0.9001097694840834.\n",
      "[I 2023-12-27 12:27:00,179] Trial 10 finished with value: 0.8803512623490669 and parameters: {'n_estimators': 12, 'max_depth': 10, 'min_samples_split': 8, 'min_samples_leaf': 4}. Best is trial 0 with value: 0.9001097694840834.\n",
      "[I 2023-12-27 12:27:07,205] Trial 11 finished with value: 0.8968166849615807 and parameters: {'n_estimators': 613, 'max_depth': 14, 'min_samples_split': 9, 'min_samples_leaf': 5}. Best is trial 0 with value: 0.9001097694840834.\n",
      "[I 2023-12-27 12:27:13,541] Trial 12 finished with value: 0.897914379802415 and parameters: {'n_estimators': 566, 'max_depth': 13, 'min_samples_split': 8, 'min_samples_leaf': 6}. Best is trial 0 with value: 0.9001097694840834.\n",
      "[I 2023-12-27 12:27:14,958] Trial 13 finished with value: 0.9001097694840834 and parameters: {'n_estimators': 124, 'max_depth': 21, 'min_samples_split': 7, 'min_samples_leaf': 6}. Best is trial 0 with value: 0.9001097694840834.\n",
      "[I 2023-12-27 12:27:16,145] Trial 14 finished with value: 0.8990120746432492 and parameters: {'n_estimators': 112, 'max_depth': 9, 'min_samples_split': 7, 'min_samples_leaf': 5}. Best is trial 0 with value: 0.9001097694840834.\n",
      "[I 2023-12-27 12:27:18,853] Trial 15 finished with value: 0.8924259055982436 and parameters: {'n_estimators': 227, 'max_depth': 24, 'min_samples_split': 2, 'min_samples_leaf': 4}. Best is trial 0 with value: 0.9001097694840834.\n",
      "[I 2023-12-27 12:27:20,452] Trial 16 finished with value: 0.893523600439078 and parameters: {'n_estimators': 266, 'max_depth': 4, 'min_samples_split': 5, 'min_samples_leaf': 7}. Best is trial 0 with value: 0.9001097694840834.\n",
      "[I 2023-12-27 12:27:21,770] Trial 17 finished with value: 0.8968166849615807 and parameters: {'n_estimators': 131, 'max_depth': 9, 'min_samples_split': 7, 'min_samples_leaf': 10}. Best is trial 0 with value: 0.9001097694840834.\n",
      "[I 2023-12-27 12:27:25,895] Trial 18 finished with value: 0.8990120746432492 and parameters: {'n_estimators': 339, 'max_depth': 15, 'min_samples_split': 4, 'min_samples_leaf': 3}. Best is trial 0 with value: 0.9001097694840834.\n",
      "[I 2023-12-27 12:27:25,982] Trial 19 finished with value: 0.8518111964873765 and parameters: {'n_estimators': 18, 'max_depth': 2, 'min_samples_split': 3, 'min_samples_leaf': 4}. Best is trial 0 with value: 0.9001097694840834.\n"
     ]
    },
    {
     "name": "stdout",
     "output_type": "stream",
     "text": [
      "Best trial: {'n_estimators': 434, 'max_depth': 7, 'min_samples_split': 3, 'min_samples_leaf': 4}\n"
     ]
    }
   ],
   "source": [
    "import optuna\n",
    "from sklearn.ensemble import RandomForestClassifier\n",
    "from sklearn.metrics import accuracy_score\n",
    "\n",
    "optuna.logging.set_verbosity(optuna.logging.INFO)\n",
    "\n",
    "def objective(trial):\n",
    "    # Define the hyperparameters to be tuned\n",
    "    n_estimators = trial.suggest_int('n_estimators', 10, 1000)\n",
    "    max_depth = trial.suggest_int('max_depth', 2, 32, log=True)\n",
    "    min_samples_split = trial.suggest_int('min_samples_split', 2, 10)\n",
    "    min_samples_leaf = trial.suggest_int('min_samples_leaf', 1, 10)\n",
    "\n",
    "    # Create the random forest classifier\n",
    "    clf = RandomForestClassifier(\n",
    "        n_estimators=n_estimators, \n",
    "        max_depth=max_depth, \n",
    "        min_samples_split=min_samples_split, \n",
    "        min_samples_leaf=min_samples_leaf,\n",
    "        random_state=42\n",
    "    )\n",
    "\n",
    "    # Fit the model and calculate accuracy\n",
    "    clf.fit(na_X_train, na_y_train)\n",
    "    train_accuracy = accuracy_score(na_y_train, clf.predict(na_X_train))\n",
    "    test_accuracy = accuracy_score(na_y_test, clf.predict(na_X_test))\n",
    "\n",
    "    # Avoid 100% training accuracy\n",
    "    if train_accuracy >= 0.999:\n",
    "        return 0.0\n",
    "\n",
    "    return test_accuracy\n",
    "\n",
    "# Create a study object and optimize the objective\n",
    "study = optuna.create_study(direction='maximize')\n",
    "study.optimize(objective, n_trials=20)\n",
    "\n",
    "# Best hyperparameters\n",
    "print('Best trial:', study.best_trial.params)\n"
   ]
  },
  {
   "cell_type": "markdown",
   "metadata": {},
   "source": [
    "# Hyper Param Tuning LAN #"
   ]
  },
  {
   "cell_type": "code",
   "execution_count": null,
   "metadata": {},
   "outputs": [],
   "source": [
    "import warnings\n",
    "warnings.simplefilter(action='ignore', category=FutureWarning)"
   ]
  },
  {
   "cell_type": "code",
   "execution_count": 14,
   "metadata": {},
   "outputs": [
    {
     "name": "stderr",
     "output_type": "stream",
     "text": [
      "[I 2023-12-27 12:27:26,019] A new study created in memory with name: no-name-f233a022-6920-4bd3-b730-1cfde4a01813\n",
      "[I 2023-12-27 12:27:26,514] Trial 0 finished with value: 0.8900481540930979 and parameters: {'n_estimators': 25, 'max_depth': 5, 'min_samples_split': 10, 'min_samples_leaf': 6}. Best is trial 0 with value: 0.8900481540930979.\n",
      "[I 2023-12-27 12:27:28,677] Trial 1 finished with value: 0.8952648475120385 and parameters: {'n_estimators': 171, 'max_depth': 3, 'min_samples_split': 7, 'min_samples_leaf': 1}. Best is trial 1 with value: 0.8952648475120385.\n",
      "[I 2023-12-27 12:27:48,613] Trial 2 finished with value: 0.8992776886035313 and parameters: {'n_estimators': 885, 'max_depth': 6, 'min_samples_split': 4, 'min_samples_leaf': 4}. Best is trial 2 with value: 0.8992776886035313.\n",
      "[I 2023-12-27 12:28:09,174] Trial 3 finished with value: 0.8976725521669342 and parameters: {'n_estimators': 619, 'max_depth': 11, 'min_samples_split': 10, 'min_samples_leaf': 10}. Best is trial 2 with value: 0.8992776886035313.\n",
      "[I 2023-12-27 12:28:19,955] Trial 4 finished with value: 0.8992776886035313 and parameters: {'n_estimators': 305, 'max_depth': 20, 'min_samples_split': 6, 'min_samples_leaf': 10}. Best is trial 2 with value: 0.8992776886035313.\n",
      "[I 2023-12-27 12:28:27,247] Trial 5 finished with value: 0.8980738362760835 and parameters: {'n_estimators': 457, 'max_depth': 4, 'min_samples_split': 5, 'min_samples_leaf': 6}. Best is trial 2 with value: 0.8992776886035313.\n",
      "[I 2023-12-27 12:28:37,762] Trial 6 finished with value: 0.8984751203852327 and parameters: {'n_estimators': 286, 'max_depth': 12, 'min_samples_split': 8, 'min_samples_leaf': 3}. Best is trial 2 with value: 0.8992776886035313.\n",
      "[I 2023-12-27 12:28:48,254] Trial 7 finished with value: 0.9000802568218299 and parameters: {'n_estimators': 414, 'max_depth': 7, 'min_samples_split': 9, 'min_samples_leaf': 9}. Best is trial 7 with value: 0.9000802568218299.\n",
      "[I 2023-12-27 12:28:53,801] Trial 8 finished with value: 0.8936597110754414 and parameters: {'n_estimators': 145, 'max_depth': 29, 'min_samples_split': 6, 'min_samples_leaf': 5}. Best is trial 7 with value: 0.9000802568218299.\n",
      "[I 2023-12-27 12:29:05,652] Trial 9 finished with value: 0.8996789727126806 and parameters: {'n_estimators': 389, 'max_depth': 9, 'min_samples_split': 3, 'min_samples_leaf': 7}. Best is trial 7 with value: 0.9000802568218299.\n",
      "[I 2023-12-27 12:29:11,574] Trial 10 finished with value: 0.8948635634028892 and parameters: {'n_estimators': 652, 'max_depth': 2, 'min_samples_split': 8, 'min_samples_leaf': 8}. Best is trial 7 with value: 0.9000802568218299.\n",
      "[I 2023-12-27 12:29:26,089] Trial 11 finished with value: 0.8976725521669342 and parameters: {'n_estimators': 450, 'max_depth': 10, 'min_samples_split': 2, 'min_samples_leaf': 8}. Best is trial 7 with value: 0.9000802568218299.\n",
      "[I 2023-12-27 12:29:43,900] Trial 12 finished with value: 0.898876404494382 and parameters: {'n_estimators': 635, 'max_depth': 8, 'min_samples_split': 2, 'min_samples_leaf': 8}. Best is trial 7 with value: 0.9000802568218299.\n",
      "[I 2023-12-27 12:29:57,446] Trial 13 finished with value: 0.8972712680577849 and parameters: {'n_estimators': 370, 'max_depth': 18, 'min_samples_split': 4, 'min_samples_leaf': 8}. Best is trial 7 with value: 0.9000802568218299.\n",
      "[I 2023-12-27 12:30:08,427] Trial 14 finished with value: 0.8960674157303371 and parameters: {'n_estimators': 868, 'max_depth': 3, 'min_samples_split': 9, 'min_samples_leaf': 7}. Best is trial 7 with value: 0.9000802568218299.\n",
      "[I 2023-12-27 12:30:22,799] Trial 15 finished with value: 0.8992776886035313 and parameters: {'n_estimators': 565, 'max_depth': 7, 'min_samples_split': 3, 'min_samples_leaf': 10}. Best is trial 7 with value: 0.9000802568218299.\n",
      "[I 2023-12-27 12:30:50,370] Trial 16 finished with value: 0.8992776886035313 and parameters: {'n_estimators': 768, 'max_depth': 15, 'min_samples_split': 7, 'min_samples_leaf': 9}. Best is trial 7 with value: 0.9000802568218299.\n",
      "[I 2023-12-27 12:30:54,216] Trial 17 finished with value: 0.8964686998394864 and parameters: {'n_estimators': 237, 'max_depth': 4, 'min_samples_split': 4, 'min_samples_leaf': 7}. Best is trial 7 with value: 0.9000802568218299.\n",
      "[I 2023-12-27 12:31:05,337] Trial 18 finished with value: 0.898876404494382 and parameters: {'n_estimators': 390, 'max_depth': 8, 'min_samples_split': 5, 'min_samples_leaf': 5}. Best is trial 7 with value: 0.9000802568218299.\n",
      "[I 2023-12-27 12:31:40,936] Trial 19 finished with value: 0.8992776886035313 and parameters: {'n_estimators': 983, 'max_depth': 32, 'min_samples_split': 9, 'min_samples_leaf': 9}. Best is trial 7 with value: 0.9000802568218299.\n"
     ]
    },
    {
     "name": "stdout",
     "output_type": "stream",
     "text": [
      "Best trial: {'n_estimators': 414, 'max_depth': 7, 'min_samples_split': 9, 'min_samples_leaf': 9}\n"
     ]
    }
   ],
   "source": [
    "import optuna\n",
    "from sklearn.ensemble import RandomForestClassifier\n",
    "from sklearn.metrics import accuracy_score\n",
    "\n",
    "optuna.logging.set_verbosity(optuna.logging.INFO)\n",
    "\n",
    "def objective(trial):\n",
    "    # Define the hyperparameters to be tuned\n",
    "    n_estimators = trial.suggest_int('n_estimators', 10, 1000)\n",
    "    max_depth = trial.suggest_int('max_depth', 2, 32, log=True)\n",
    "    min_samples_split = trial.suggest_int('min_samples_split', 2, 10)\n",
    "    min_samples_leaf = trial.suggest_int('min_samples_leaf', 1, 10)\n",
    "\n",
    "    # Create the random forest classifier\n",
    "    clf = RandomForestClassifier(\n",
    "        n_estimators=n_estimators, \n",
    "        max_depth=max_depth, \n",
    "        min_samples_split=min_samples_split, \n",
    "        min_samples_leaf=min_samples_leaf,\n",
    "        random_state=42\n",
    "    )\n",
    "\n",
    "    # Fit the model and calculate accuracy\n",
    "    clf.fit(lan_X_train, lan_y_train)\n",
    "    train_accuracy = accuracy_score(lan_y_train, clf.predict(lan_X_train))\n",
    "    test_accuracy = accuracy_score(lan_y_test, clf.predict(lan_X_test))\n",
    "\n",
    "    # Avoid 100% training accuracy\n",
    "    if train_accuracy >= 0.999:\n",
    "        return 0.0\n",
    "\n",
    "    return test_accuracy\n",
    "\n",
    "# Create a study object and optimize the objective\n",
    "study = optuna.create_study(direction='maximize')\n",
    "study.optimize(objective, n_trials=20)\n",
    "\n",
    "# Best hyperparameters\n",
    "print('Best trial:', study.best_trial.params)\n"
   ]
  },
  {
   "cell_type": "markdown",
   "metadata": {},
   "source": [
    "# Best Model #\n",
    "### Looks like model accuracy stayed the same ###"
   ]
  },
  {
   "cell_type": "code",
   "execution_count": 17,
   "metadata": {},
   "outputs": [
    {
     "data": {
      "text/html": [
       "<style>#sk-container-id-2 {color: black;background-color: white;}#sk-container-id-2 pre{padding: 0;}#sk-container-id-2 div.sk-toggleable {background-color: white;}#sk-container-id-2 label.sk-toggleable__label {cursor: pointer;display: block;width: 100%;margin-bottom: 0;padding: 0.3em;box-sizing: border-box;text-align: center;}#sk-container-id-2 label.sk-toggleable__label-arrow:before {content: \"▸\";float: left;margin-right: 0.25em;color: #696969;}#sk-container-id-2 label.sk-toggleable__label-arrow:hover:before {color: black;}#sk-container-id-2 div.sk-estimator:hover label.sk-toggleable__label-arrow:before {color: black;}#sk-container-id-2 div.sk-toggleable__content {max-height: 0;max-width: 0;overflow: hidden;text-align: left;background-color: #f0f8ff;}#sk-container-id-2 div.sk-toggleable__content pre {margin: 0.2em;color: black;border-radius: 0.25em;background-color: #f0f8ff;}#sk-container-id-2 input.sk-toggleable__control:checked~div.sk-toggleable__content {max-height: 200px;max-width: 100%;overflow: auto;}#sk-container-id-2 input.sk-toggleable__control:checked~label.sk-toggleable__label-arrow:before {content: \"▾\";}#sk-container-id-2 div.sk-estimator input.sk-toggleable__control:checked~label.sk-toggleable__label {background-color: #d4ebff;}#sk-container-id-2 div.sk-label input.sk-toggleable__control:checked~label.sk-toggleable__label {background-color: #d4ebff;}#sk-container-id-2 input.sk-hidden--visually {border: 0;clip: rect(1px 1px 1px 1px);clip: rect(1px, 1px, 1px, 1px);height: 1px;margin: -1px;overflow: hidden;padding: 0;position: absolute;width: 1px;}#sk-container-id-2 div.sk-estimator {font-family: monospace;background-color: #f0f8ff;border: 1px dotted black;border-radius: 0.25em;box-sizing: border-box;margin-bottom: 0.5em;}#sk-container-id-2 div.sk-estimator:hover {background-color: #d4ebff;}#sk-container-id-2 div.sk-parallel-item::after {content: \"\";width: 100%;border-bottom: 1px solid gray;flex-grow: 1;}#sk-container-id-2 div.sk-label:hover label.sk-toggleable__label {background-color: #d4ebff;}#sk-container-id-2 div.sk-serial::before {content: \"\";position: absolute;border-left: 1px solid gray;box-sizing: border-box;top: 0;bottom: 0;left: 50%;z-index: 0;}#sk-container-id-2 div.sk-serial {display: flex;flex-direction: column;align-items: center;background-color: white;padding-right: 0.2em;padding-left: 0.2em;position: relative;}#sk-container-id-2 div.sk-item {position: relative;z-index: 1;}#sk-container-id-2 div.sk-parallel {display: flex;align-items: stretch;justify-content: center;background-color: white;position: relative;}#sk-container-id-2 div.sk-item::before, #sk-container-id-2 div.sk-parallel-item::before {content: \"\";position: absolute;border-left: 1px solid gray;box-sizing: border-box;top: 0;bottom: 0;left: 50%;z-index: -1;}#sk-container-id-2 div.sk-parallel-item {display: flex;flex-direction: column;z-index: 1;position: relative;background-color: white;}#sk-container-id-2 div.sk-parallel-item:first-child::after {align-self: flex-end;width: 50%;}#sk-container-id-2 div.sk-parallel-item:last-child::after {align-self: flex-start;width: 50%;}#sk-container-id-2 div.sk-parallel-item:only-child::after {width: 0;}#sk-container-id-2 div.sk-dashed-wrapped {border: 1px dashed gray;margin: 0 0.4em 0.5em 0.4em;box-sizing: border-box;padding-bottom: 0.4em;background-color: white;}#sk-container-id-2 div.sk-label label {font-family: monospace;font-weight: bold;display: inline-block;line-height: 1.2em;}#sk-container-id-2 div.sk-label-container {text-align: center;}#sk-container-id-2 div.sk-container {/* jupyter's `normalize.less` sets `[hidden] { display: none; }` but bootstrap.min.css set `[hidden] { display: none !important; }` so we also need the `!important` here to be able to override the default hidden behavior on the sphinx rendered scikit-learn.org. See: https://github.com/scikit-learn/scikit-learn/issues/21755 */display: inline-block !important;position: relative;}#sk-container-id-2 div.sk-text-repr-fallback {display: none;}</style><div id=\"sk-container-id-2\" class=\"sk-top-container\"><div class=\"sk-text-repr-fallback\"><pre>RandomForestClassifier(max_depth=7, min_samples_leaf=9, min_samples_split=9,\n",
       "                       n_estimators=414, random_state=42)</pre><b>In a Jupyter environment, please rerun this cell to show the HTML representation or trust the notebook. <br />On GitHub, the HTML representation is unable to render, please try loading this page with nbviewer.org.</b></div><div class=\"sk-container\" hidden><div class=\"sk-item\"><div class=\"sk-estimator sk-toggleable\"><input class=\"sk-toggleable__control sk-hidden--visually\" id=\"sk-estimator-id-2\" type=\"checkbox\" checked><label for=\"sk-estimator-id-2\" class=\"sk-toggleable__label sk-toggleable__label-arrow\">RandomForestClassifier</label><div class=\"sk-toggleable__content\"><pre>RandomForestClassifier(max_depth=7, min_samples_leaf=9, min_samples_split=9,\n",
       "                       n_estimators=414, random_state=42)</pre></div></div></div></div></div>"
      ],
      "text/plain": [
       "RandomForestClassifier(max_depth=7, min_samples_leaf=9, min_samples_split=9,\n",
       "                       n_estimators=414, random_state=42)"
      ]
     },
     "execution_count": 17,
     "metadata": {},
     "output_type": "execute_result"
    }
   ],
   "source": [
    "na_rf_classifier_tuned = RandomForestClassifier(n_estimators=434, max_depth=7, min_samples_split=3, min_samples_leaf=4, random_state=42)\n",
    "na_rf_classifier_tuned.fit(na_X_train, na_y_train)\n",
    "\n",
    "lan_rf_classifier_tuned = RandomForestClassifier(random_state=42, n_estimators=414, max_depth=7, min_samples_split=9, min_samples_leaf=9)\n",
    "lan_rf_classifier_tuned.fit(lan_X_train, lan_y_train)"
   ]
  },
  {
   "cell_type": "code",
   "execution_count": 18,
   "metadata": {},
   "outputs": [
    {
     "name": "stdout",
     "output_type": "stream",
     "text": [
      "NA Accuracy: 0.8946212952799122\n",
      "              precision    recall  f1-score   support\n",
      "\n",
      "           0       0.89      0.90      0.89       439\n",
      "           1       0.90      0.89      0.90       472\n",
      "\n",
      "    accuracy                           0.89       911\n",
      "   macro avg       0.89      0.89      0.89       911\n",
      "weighted avg       0.89      0.89      0.89       911\n",
      "\n"
     ]
    }
   ],
   "source": [
    "na_y_pred_tuned = na_rf_classifier.predict(na_X_test)\n",
    "print(\"NA Accuracy:\", accuracy_score(na_y_test, na_y_pred_tuned))\n",
    "print(classification_report(na_y_test, na_y_pred_tuned))"
   ]
  },
  {
   "cell_type": "code",
   "execution_count": 25,
   "metadata": {},
   "outputs": [
    {
     "name": "stdout",
     "output_type": "stream",
     "text": [
      "LAN Accuracy: 0.8980738362760835\n",
      "              precision    recall  f1-score   support\n",
      "\n",
      "           0       0.90      0.90      0.90      1230\n",
      "           1       0.90      0.90      0.90      1262\n",
      "\n",
      "    accuracy                           0.90      2492\n",
      "   macro avg       0.90      0.90      0.90      2492\n",
      "weighted avg       0.90      0.90      0.90      2492\n",
      "\n"
     ]
    }
   ],
   "source": [
    "lan_y_pred_tuned = lan_rf_classifier.predict(lan_X_test)\n",
    "print(\"LAN Accuracy:\", accuracy_score(lan_y_test, lan_y_pred_tuned))\n",
    "print(classification_report(lan_y_test, lan_y_pred_tuned))"
   ]
  }
 ],
 "metadata": {
  "kernelspec": {
   "display_name": "base",
   "language": "python",
   "name": "python3"
  },
  "language_info": {
   "codemirror_mode": {
    "name": "ipython",
    "version": 3
   },
   "file_extension": ".py",
   "mimetype": "text/x-python",
   "name": "python",
   "nbconvert_exporter": "python",
   "pygments_lexer": "ipython3",
   "version": "3.11.5"
  },
  "orig_nbformat": 4
 },
 "nbformat": 4,
 "nbformat_minor": 2
}
